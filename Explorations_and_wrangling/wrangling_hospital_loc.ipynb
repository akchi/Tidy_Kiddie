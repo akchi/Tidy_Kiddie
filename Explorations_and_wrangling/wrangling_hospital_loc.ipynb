{
 "cells": [
  {
   "cell_type": "markdown",
   "metadata": {},
   "source": [
    "# FIT5120 Iteration 01\n",
    "## Missing Values and Filtering\n",
    "\n",
    "#### Author: Akshatha Shivashankar Chindalur\n",
    "#### Student ID: 29996503\n",
    "\n",
    "Date: 27/04/2020\n",
    "\n",
    "Version: 1.0\n",
    "\n",
    "Environment: Python 3.7.3 and Jupyter notebook\n",
    "\n",
    "Libraries used: \n",
    "\n",
    "* pandas (for accessing and modifying data in csv files, included in Anaconda Python 3.7) "
   ]
  },
  {
   "cell_type": "code",
   "execution_count": 1,
   "metadata": {},
   "outputs": [],
   "source": [
    "# intialising the libraries\n",
    "\n",
    "import pandas as pd"
   ]
  },
  {
   "cell_type": "code",
   "execution_count": 2,
   "metadata": {},
   "outputs": [
    {
     "name": "stdout",
     "output_type": "stream",
     "text": [
      "<class 'pandas.core.frame.DataFrame'>\n",
      "RangeIndex: 325 entries, 0 to 324\n",
      "Data columns (total 17 columns):\n",
      "X             325 non-null float64\n",
      "Y             325 non-null float64\n",
      "FID           325 non-null int64\n",
      "LabelName     325 non-null object\n",
      "OpsName       325 non-null object\n",
      "Type          325 non-null object\n",
      "StreetNum     325 non-null object\n",
      "RoadName      325 non-null object\n",
      "RoadType      325 non-null object\n",
      "RoadSuffix    325 non-null object\n",
      "CampusCode    325 non-null int64\n",
      "LGAName       325 non-null object\n",
      "LocalityNa    325 non-null object\n",
      "Postcode      325 non-null int64\n",
      "VicgovRegi    325 non-null object\n",
      "State         325 non-null object\n",
      "ServiceNam    325 non-null object\n",
      "dtypes: float64(2), int64(3), object(12)\n",
      "memory usage: 43.2+ KB\n"
     ]
    }
   ],
   "source": [
    "# loading the hospital dataset\n",
    "hospital_df = pd.read_csv('./datasets/raw_data/health_centers/Hospital_Locations.csv')\n",
    "hospital_df.info()"
   ]
  },
  {
   "cell_type": "code",
   "execution_count": 3,
   "metadata": {},
   "outputs": [],
   "source": [
    "# formatting the string in the below columns of the dataset\n",
    "hospital_df['LGAName'] = hospital_df['LGAName'].str.title() \n",
    "hospital_df['LocalityNa'] = hospital_df['LocalityNa'].str.title()\n",
    "hospital_df['RoadName'] = hospital_df['RoadName'].str.title()\n",
    "hospital_df['RoadType'] = hospital_df['RoadType'].str.title()"
   ]
  },
  {
   "cell_type": "code",
   "execution_count": 4,
   "metadata": {},
   "outputs": [],
   "source": [
    "#   This function replaces an empty Locality Name with its LGA Name.\n",
    "#\n",
    "#   :param lga_name:    the LGA Name of the given observation.\n",
    "#          locality_name: the Locality Name of the given observation.\n",
    "#\n",
    "#   :return locality_name:   the replaced Locality Name (previously empty)\n",
    "\n",
    "def check_locality_name(lga_name, locality_name):\n",
    "    \n",
    "    if locality_name == ' ':\n",
    "        locality_name = lga_name\n",
    "        \n",
    "    return locality_name\n",
    "\n",
    "hospital_df['LocalityNa'] = hospital_df.apply(lambda row:check_locality_name(row['LGAName'], row['LocalityNa']),axis=1)"
   ]
  },
  {
   "cell_type": "code",
   "execution_count": 5,
   "metadata": {},
   "outputs": [],
   "source": [
    "#hospital_df.head()"
   ]
  },
  {
   "cell_type": "code",
   "execution_count": 6,
   "metadata": {},
   "outputs": [],
   "source": [
    "hospital_df.to_csv('./datasets/clean_data/hospital_loc.csv', index=False, header=True)"
   ]
  },
  {
   "cell_type": "code",
   "execution_count": 7,
   "metadata": {},
   "outputs": [
    {
     "name": "stdout",
     "output_type": "stream",
     "text": [
      "<class 'pandas.core.frame.DataFrame'>\n",
      "RangeIndex: 16080 entries, 0 to 16079\n",
      "Data columns (total 7 columns):\n",
      "postcode    16080 non-null int64\n",
      "suburb      16079 non-null object\n",
      "state       16079 non-null object\n",
      "dc          15793 non-null object\n",
      "type        16079 non-null object\n",
      "lat         16079 non-null float64\n",
      "lon         16079 non-null float64\n",
      "dtypes: float64(2), int64(1), object(4)\n",
      "memory usage: 879.5+ KB\n"
     ]
    }
   ],
   "source": [
    "# loading the postal codes dataset\n",
    "postal_df = pd.read_csv('./datasets/raw_data/Australian_Post_Codes_Lat_Lon.csv')\n",
    "postal_df.info()"
   ]
  },
  {
   "cell_type": "code",
   "execution_count": 8,
   "metadata": {},
   "outputs": [
    {
     "data": {
      "text/html": [
       "<div>\n",
       "<style scoped>\n",
       "    .dataframe tbody tr th:only-of-type {\n",
       "        vertical-align: middle;\n",
       "    }\n",
       "\n",
       "    .dataframe tbody tr th {\n",
       "        vertical-align: top;\n",
       "    }\n",
       "\n",
       "    .dataframe thead th {\n",
       "        text-align: right;\n",
       "    }\n",
       "</style>\n",
       "<table border=\"1\" class=\"dataframe\">\n",
       "  <thead>\n",
       "    <tr style=\"text-align: right;\">\n",
       "      <th></th>\n",
       "      <th>postcode</th>\n",
       "      <th>suburb</th>\n",
       "      <th>state</th>\n",
       "      <th>dc</th>\n",
       "      <th>type</th>\n",
       "      <th>lat</th>\n",
       "      <th>lon</th>\n",
       "    </tr>\n",
       "  </thead>\n",
       "  <tbody>\n",
       "    <tr>\n",
       "      <th>0</th>\n",
       "      <td>200</td>\n",
       "      <td>AUSTRALIAN NATIONAL UNIVERSITY</td>\n",
       "      <td>ACT</td>\n",
       "      <td>AUSTRALIAN NATIONAL UNI LPO</td>\n",
       "      <td>Post Office Boxes</td>\n",
       "      <td>-35.277272</td>\n",
       "      <td>149.117136</td>\n",
       "    </tr>\n",
       "    <tr>\n",
       "      <th>1</th>\n",
       "      <td>221</td>\n",
       "      <td>BARTON</td>\n",
       "      <td>ACT</td>\n",
       "      <td>NaN</td>\n",
       "      <td>LVR</td>\n",
       "      <td>-35.201372</td>\n",
       "      <td>149.095065</td>\n",
       "    </tr>\n",
       "    <tr>\n",
       "      <th>2</th>\n",
       "      <td>800</td>\n",
       "      <td>DARWIN</td>\n",
       "      <td>NT</td>\n",
       "      <td>DARWIN DELIVERY CENTRE</td>\n",
       "      <td>Delivery Area</td>\n",
       "      <td>-12.801028</td>\n",
       "      <td>130.955789</td>\n",
       "    </tr>\n",
       "    <tr>\n",
       "      <th>3</th>\n",
       "      <td>801</td>\n",
       "      <td>DARWIN</td>\n",
       "      <td>NT</td>\n",
       "      <td>DARWIN DELIVERY CENTRE</td>\n",
       "      <td>Post Office Boxes</td>\n",
       "      <td>-12.801028</td>\n",
       "      <td>130.955789</td>\n",
       "    </tr>\n",
       "    <tr>\n",
       "      <th>4</th>\n",
       "      <td>804</td>\n",
       "      <td>PARAP</td>\n",
       "      <td>NT</td>\n",
       "      <td>PARAP</td>\n",
       "      <td>Post Office Boxes</td>\n",
       "      <td>-12.432181</td>\n",
       "      <td>130.843310</td>\n",
       "    </tr>\n",
       "  </tbody>\n",
       "</table>\n",
       "</div>"
      ],
      "text/plain": [
       "   postcode                          suburb state  \\\n",
       "0       200  AUSTRALIAN NATIONAL UNIVERSITY   ACT   \n",
       "1       221                          BARTON   ACT   \n",
       "2       800                          DARWIN    NT   \n",
       "3       801                          DARWIN    NT   \n",
       "4       804                           PARAP    NT   \n",
       "\n",
       "                            dc                                           type  \\\n",
       "0  AUSTRALIAN NATIONAL UNI LPO  Post Office Boxes                               \n",
       "1                          NaN  LVR                                             \n",
       "2       DARWIN DELIVERY CENTRE  Delivery Area                                   \n",
       "3       DARWIN DELIVERY CENTRE  Post Office Boxes                               \n",
       "4                        PARAP  Post Office Boxes                               \n",
       "\n",
       "         lat         lon  \n",
       "0 -35.277272  149.117136  \n",
       "1 -35.201372  149.095065  \n",
       "2 -12.801028  130.955789  \n",
       "3 -12.801028  130.955789  \n",
       "4 -12.432181  130.843310  "
      ]
     },
     "execution_count": 8,
     "metadata": {},
     "output_type": "execute_result"
    }
   ],
   "source": [
    "postal_df.head()"
   ]
  },
  {
   "cell_type": "code",
   "execution_count": 9,
   "metadata": {},
   "outputs": [],
   "source": [
    "# extracting codes only within Victoria\n",
    "postal_vic = postal_df.loc[postal_df['state']=='VIC']\n",
    "postal_vic = postal_vic.reset_index(drop = True)"
   ]
  },
  {
   "cell_type": "code",
   "execution_count": 10,
   "metadata": {},
   "outputs": [],
   "source": [
    "postal_vic.to_csv('./datasets/clean_data/vic_postal.csv', index=False, header=True)"
   ]
  }
 ],
 "metadata": {
  "kernelspec": {
   "display_name": "Python 3",
   "language": "python",
   "name": "python3"
  },
  "language_info": {
   "codemirror_mode": {
    "name": "ipython",
    "version": 3
   },
   "file_extension": ".py",
   "mimetype": "text/x-python",
   "name": "python",
   "nbconvert_exporter": "python",
   "pygments_lexer": "ipython3",
   "version": "3.7.3"
  }
 },
 "nbformat": 4,
 "nbformat_minor": 2
}
