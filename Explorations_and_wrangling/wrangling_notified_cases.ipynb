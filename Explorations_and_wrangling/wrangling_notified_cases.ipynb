{
 "cells": [
  {
   "cell_type": "markdown",
   "metadata": {},
   "source": [
    "# FIT5120 Iteration 01\n",
    "## Data Cleaning and Reshaping\n",
    "\n",
    "#### Author: Akshatha Shivashankar Chindalur\n",
    "#### Student ID: 29996503\n",
    "\n",
    "Date: 18/05/2020\n",
    "\n",
    "Version: 2.0\n",
    "\n",
    "Environment: Python 3.7.3 and Jupyter notebook\n",
    "\n",
    "Libraries used: \n",
    "\n",
    "* pandas (for accessing and modifying data in csv files, included in Anaconda Python 3.7) \n",
    "* numpy (for solving simultaneous equations, included in Anaconda Python 3.7) \n",
    "* glob (for reading and writing files into the system, included in Anaconda Python 3.7)\n",
    "* os (for manipulating file structure, included in Anaconda Python 3.7)"
   ]
  },
  {
   "cell_type": "code",
   "execution_count": 1,
   "metadata": {},
   "outputs": [],
   "source": [
    "# intialising the libraries\n",
    "\n",
    "import pandas as pd\n",
    "import numpy as np\n",
    "import matplotlib.pyplot as plt\n",
    "import glob\n",
    "import os"
   ]
  },
  {
   "cell_type": "code",
   "execution_count": 2,
   "metadata": {},
   "outputs": [],
   "source": [
    "#   This function replaces missing values in the columns Condition and Year.\n",
    "#   It extracts the value from the previous and substiutes the missing value\n",
    "#   in the current row.\n",
    "#\n",
    "#   :param missing_df:   the dataframe with missing values in the columns\n",
    "#\n",
    "#   :return missing_df:  the dataframe with missing values replaces accordingly.\n",
    "\n",
    "def fill_infection_year(missing_df):\n",
    "\n",
    "    n = len(missing_df)\n",
    "    for i in range(1, n):\n",
    "        \n",
    "        # checks for a missing value\n",
    "        if(str(missing_df.loc[i, 'Condition'])=='nan' or missing_df.loc[i, 'Condition'] == None):\n",
    "            # replaces from the previous row\n",
    "            missing_df.loc[i, 'Condition'] = missing_df.loc[i-1, 'Condition']\n",
    "        if(missing_df.loc[i, 'Year'] == 0):\n",
    "            missing_df.loc[i, 'Year'] = missing_df.loc[i-1, 'Year']\n",
    "            \n",
    "    return missing_df"
   ]
  },
  {
   "cell_type": "code",
   "execution_count": 3,
   "metadata": {},
   "outputs": [],
   "source": [
    "#   This function divides the dataframe based on the gender of the observation.\n",
    "#\n",
    "#   :param sex_df:   the dataframe with mixed genders.\n",
    "#\n",
    "#   :return total, female, male:  the dataframes seperated based on gender respectively.\n",
    "\n",
    "def split_sex(sex_df):\n",
    "    total = sex_df[sex_df['Sex']=='Total']\n",
    "    female = sex_df[sex_df['Sex']=='Female']\n",
    "    male = sex_df[sex_df['Sex']=='Male']\n",
    "    \n",
    "    return total, female, male"
   ]
  },
  {
   "cell_type": "code",
   "execution_count": 4,
   "metadata": {},
   "outputs": [],
   "source": [
    "#   This function transforms the long dataset into a wide dataset. \n",
    "#   It also gets rid of unnecessary columns.\n",
    "#\n",
    "#   :param long_df:   the lengthy dataframe\n",
    "#\n",
    "#   :return long_df:  the transformed dataframe.\n",
    "\n",
    "def pivot_df(long_df):\n",
    "   \n",
    "    long_df = long_df.drop(['Sex'], axis=1)\n",
    "    long_df = long_df.pivot(index='Condition', columns='Year', values='Notified Cases')\n",
    "    long_df = long_df.reset_index()\n",
    "    del long_df.columns.name\n",
    "    long_df.columns = long_df.columns.astype(str)\n",
    "    long_df = long_df.replace({0.0: np.nan})\n",
    "    long_df = long_df.dropna(thresh=2)\n",
    "    long_df = long_df.reset_index(drop=True)\n",
    "    \n",
    "    return long_df"
   ]
  },
  {
   "cell_type": "code",
   "execution_count": 5,
   "metadata": {},
   "outputs": [],
   "source": [
    "#   This function writes the cleaned dataframe into a CSV file. \n",
    "#\n",
    "#   :param filename:   the name of the CSV file\n",
    "#          total, female, male: the cleanded and seperated (by gender) dataframes.\n",
    "#\n",
    "\n",
    "def write_dataframe(filename, total, female, male):\n",
    "    \n",
    "    path = './../data/clean_data/notified_cases/'\n",
    "    total.to_csv(os.path.join(path + 'total', filename + '_total.csv'), index=False)\n",
    "    female.to_csv(os.path.join(path + 'female', filename + '_female.csv'), index=False)\n",
    "    male.to_csv(os.path.join(path + 'male', filename + '_male.csv'), index=False)"
   ]
  },
  {
   "cell_type": "code",
   "execution_count": 6,
   "metadata": {},
   "outputs": [
    {
     "name": "stderr",
     "output_type": "stream",
     "text": [
      "//anaconda3/lib/python3.7/site-packages/pandas/core/ops.py:1649: FutureWarning: elementwise comparison failed; returning scalar instead, but in the future will perform elementwise comparison\n",
      "  result = method(y)\n"
     ]
    }
   ],
   "source": [
    "# reading all the infections datasets from different regions\n",
    "infection_files = glob.glob('./../data/raw_data/notified_cases/infectious_diseases_*.xls')\n",
    "                    \n",
    "for file in  infection_files:\n",
    "    region_df = pd.read_excel(file, header=None, skiprows=9, usecols = [1,4,5,8])\n",
    "    region_df.columns = ['Condition', 'Year', 'Sex', 'Notified Cases']\n",
    "    region_df['Year'] = region_df['Year'].fillna(0)\n",
    "    region_df = region_df.astype({'Year': int})\n",
    "    region_df = fill_infection_year(region_df)\n",
    "    df_total, df_female, df_male = split_sex(region_df)\n",
    "    df_total = pivot_df(df_total)\n",
    "    df_female = pivot_df(df_female)\n",
    "    df_male = pivot_df(df_male)\n",
    "    \n",
    "    filename = os.path.splitext(file)[0]\n",
    "    filename = filename.split('/')[5]\n",
    "    write_dataframe(filename, df_total, df_female, df_male)"
   ]
  },
  {
   "cell_type": "code",
   "execution_count": 7,
   "metadata": {},
   "outputs": [],
   "source": [
    "# read the cleaned files of regional Victoria\n",
    "gippsland = pd.read_csv('./../data/clean_data/notified_cases/total/infectious_diseases_Gippsland_total.csv')\n",
    "grampians = pd.read_csv('./../data/clean_data/notified_cases/total/infectious_diseases_Grampians_total.csv')\n",
    "hume = pd.read_csv('./../data/clean_data/notified_cases/total/infectious_diseases_Hume_total.csv')\n",
    "loddon = pd.read_csv('./../data/clean_data/notified_cases/total/infectious_diseases_LoddonMallee_total.csv')"
   ]
  },
  {
   "cell_type": "code",
   "execution_count": 8,
   "metadata": {},
   "outputs": [],
   "source": [
    "# replace NaN with zeros\n",
    "gippsland = gippsland.fillna(0)\n",
    "grampians = grampians.fillna(0)\n",
    "hume = hume.fillna(0)\n",
    "loddon = loddon.fillna(0)"
   ]
  },
  {
   "cell_type": "code",
   "execution_count": 9,
   "metadata": {},
   "outputs": [],
   "source": [
    "# extract the infections in each region\n",
    "r1 = gippsland['Condition'].tolist()\n",
    "r2 = grampians['Condition'].tolist()\n",
    "r3 = hume['Condition'].tolist()\n",
    "r4 = loddon['Condition'].tolist()"
   ]
  },
  {
   "cell_type": "code",
   "execution_count": 10,
   "metadata": {},
   "outputs": [],
   "source": [
    "# obtain the intersection of the infection from the regions (common infections)\n",
    "common_infec = list(set(r1) & set(r2) & set(r3) & set(r4))"
   ]
  },
  {
   "cell_type": "code",
   "execution_count": 11,
   "metadata": {},
   "outputs": [],
   "source": [
    "# the sum of cases for the common infections is calculated\n",
    "totals = []\n",
    "\n",
    "for i in range(0, len(common_infec)):\n",
    "    count_1 = gippsland.loc[gippsland['Condition'] == common_infec[i]]['2017'].values[0]\n",
    "    count_2 = grampians.loc[grampians['Condition'] == common_infec[i]]['2017'].values[0]\n",
    "    count_3 = hume.loc[hume['Condition'] == common_infec[i]]['2017'].values[0]\n",
    "    count_4 = loddon.loc[loddon['Condition'] == common_infec[i]]['2017'].values[0]\n",
    "\n",
    "    totals.append(count_1 + count_2 + count_3 + count_4)"
   ]
  },
  {
   "cell_type": "code",
   "execution_count": 12,
   "metadata": {},
   "outputs": [
    {
     "data": {
      "text/plain": [
       "<BarContainer object of 9 artists>"
      ]
     },
     "execution_count": 12,
     "metadata": {},
     "output_type": "execute_result"
    },
    {
     "data": {
      "image/png": "[encoded data removed]",
      "text/plain": [
       "<Figure size 432x288 with 1 Axes>"
      ]
     },
     "metadata": {
      "needs_background": "light"
     },
     "output_type": "display_data"
    }
   ],
   "source": [
    "# a plot showing the infections and the total number of cases\n",
    "fig, ax = plt.subplots()\n",
    "ax.barh(common_infec, totals)"
   ]
  }
 ],
 "metadata": {
  "kernelspec": {
   "display_name": "Python 3",
   "language": "python",
   "name": "python3"
  },
  "language_info": {
   "codemirror_mode": {
    "name": "ipython",
    "version": 3
   },
   "file_extension": ".py",
   "mimetype": "text/x-python",
   "name": "python",
   "nbconvert_exporter": "python",
   "pygments_lexer": "ipython3",
   "version": "3.7.3"
  }
 },
 "nbformat": 4,
 "nbformat_minor": 2
}
